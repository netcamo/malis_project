{
 "cells": [
  {
   "cell_type": "markdown",
   "metadata": {},
   "source": [
    "## MALIS SEMESTER PROJECT\n"
   ]
  },
  {
   "cell_type": "code",
   "execution_count": 67,
   "metadata": {},
   "outputs": [],
   "source": [
    "%config Completer.use_jedi = False  \n",
    "import numpy as np    \n",
    "import pandas as pd    \n",
    "import matplotlib.pyplot as plt    \n",
    "from sklearn.preprocessing import PolynomialFeatures    \n",
    "from sklearn.metrics import mean_squared_error   \n",
    "from sklearn.linear_model import LogisticRegression\n",
    "from sklearn.svm import SVC\n",
    "from sklearn.model_selection import train_test_split\n",
    "from sklearn.metrics import confusion_matrix,classification_report,accuracy_score,roc_auc_score\n",
    "from sklearn.preprocessing import RobustScaler,MinMaxScaler,StandardScaler\n",
    "import os\n",
    "import warnings\n",
    "import seaborn as sns\n",
    "import matplotlib.pyplot as plt\n",
    "import plotly.express as px\n",
    "warnings.filterwarnings(\"ignore\")\n",
    "pd.set_option(\"display.max_rows\",15)\n",
    "from sklearn import preprocessing\n",
    "import matplotlib \n",
    "matplotlib.style.use('ggplot')\n",
    "from sklearn.preprocessing import LabelEncoder\n",
    "from sklearn.model_selection import KFold\n",
    "\n",
    "\n",
    "from sklearn.metrics import log_loss"
   ]
  },
  {
   "cell_type": "code",
   "execution_count": 68,
   "metadata": {
    "scrolled": true
   },
   "outputs": [
    {
     "data": {
      "text/html": [
       "<div>\n",
       "<style scoped>\n",
       "    .dataframe tbody tr th:only-of-type {\n",
       "        vertical-align: middle;\n",
       "    }\n",
       "\n",
       "    .dataframe tbody tr th {\n",
       "        vertical-align: top;\n",
       "    }\n",
       "\n",
       "    .dataframe thead th {\n",
       "        text-align: right;\n",
       "    }\n",
       "</style>\n",
       "<table border=\"1\" class=\"dataframe\">\n",
       "  <thead>\n",
       "    <tr style=\"text-align: right;\">\n",
       "      <th></th>\n",
       "      <th>Age</th>\n",
       "      <th>Sex</th>\n",
       "      <th>ChestPainType</th>\n",
       "      <th>RestingBP</th>\n",
       "      <th>Cholesterol</th>\n",
       "      <th>FastingBS</th>\n",
       "      <th>RestingECG</th>\n",
       "      <th>MaxHR</th>\n",
       "      <th>ExerciseAngina</th>\n",
       "      <th>Oldpeak</th>\n",
       "      <th>ST_Slope</th>\n",
       "      <th>HeartDisease</th>\n",
       "    </tr>\n",
       "  </thead>\n",
       "  <tbody>\n",
       "    <tr>\n",
       "      <th>0</th>\n",
       "      <td>40</td>\n",
       "      <td>M</td>\n",
       "      <td>ATA</td>\n",
       "      <td>140</td>\n",
       "      <td>289</td>\n",
       "      <td>0</td>\n",
       "      <td>Normal</td>\n",
       "      <td>172</td>\n",
       "      <td>N</td>\n",
       "      <td>0.0</td>\n",
       "      <td>Up</td>\n",
       "      <td>0</td>\n",
       "    </tr>\n",
       "    <tr>\n",
       "      <th>1</th>\n",
       "      <td>49</td>\n",
       "      <td>F</td>\n",
       "      <td>NAP</td>\n",
       "      <td>160</td>\n",
       "      <td>180</td>\n",
       "      <td>0</td>\n",
       "      <td>Normal</td>\n",
       "      <td>156</td>\n",
       "      <td>N</td>\n",
       "      <td>1.0</td>\n",
       "      <td>Flat</td>\n",
       "      <td>1</td>\n",
       "    </tr>\n",
       "    <tr>\n",
       "      <th>2</th>\n",
       "      <td>37</td>\n",
       "      <td>M</td>\n",
       "      <td>ATA</td>\n",
       "      <td>130</td>\n",
       "      <td>283</td>\n",
       "      <td>0</td>\n",
       "      <td>ST</td>\n",
       "      <td>98</td>\n",
       "      <td>N</td>\n",
       "      <td>0.0</td>\n",
       "      <td>Up</td>\n",
       "      <td>0</td>\n",
       "    </tr>\n",
       "    <tr>\n",
       "      <th>3</th>\n",
       "      <td>48</td>\n",
       "      <td>F</td>\n",
       "      <td>ASY</td>\n",
       "      <td>138</td>\n",
       "      <td>214</td>\n",
       "      <td>0</td>\n",
       "      <td>Normal</td>\n",
       "      <td>108</td>\n",
       "      <td>Y</td>\n",
       "      <td>1.5</td>\n",
       "      <td>Flat</td>\n",
       "      <td>1</td>\n",
       "    </tr>\n",
       "    <tr>\n",
       "      <th>4</th>\n",
       "      <td>54</td>\n",
       "      <td>M</td>\n",
       "      <td>NAP</td>\n",
       "      <td>150</td>\n",
       "      <td>195</td>\n",
       "      <td>0</td>\n",
       "      <td>Normal</td>\n",
       "      <td>122</td>\n",
       "      <td>N</td>\n",
       "      <td>0.0</td>\n",
       "      <td>Up</td>\n",
       "      <td>0</td>\n",
       "    </tr>\n",
       "  </tbody>\n",
       "</table>\n",
       "</div>"
      ],
      "text/plain": [
       "   Age Sex ChestPainType  RestingBP  Cholesterol  FastingBS RestingECG  MaxHR  \\\n",
       "0   40   M           ATA        140          289          0     Normal    172   \n",
       "1   49   F           NAP        160          180          0     Normal    156   \n",
       "2   37   M           ATA        130          283          0         ST     98   \n",
       "3   48   F           ASY        138          214          0     Normal    108   \n",
       "4   54   M           NAP        150          195          0     Normal    122   \n",
       "\n",
       "  ExerciseAngina  Oldpeak ST_Slope  HeartDisease  \n",
       "0              N      0.0       Up             0  \n",
       "1              N      1.0     Flat             1  \n",
       "2              N      0.0       Up             0  \n",
       "3              Y      1.5     Flat             1  \n",
       "4              N      0.0       Up             0  "
      ]
     },
     "execution_count": 68,
     "metadata": {},
     "output_type": "execute_result"
    }
   ],
   "source": [
    "df = pd.read_csv ('heart.csv')\n",
    "df.head()"
   ]
  },
  {
   "cell_type": "code",
   "execution_count": 69,
   "metadata": {
    "scrolled": true
   },
   "outputs": [
    {
     "data": {
      "text/html": [
       "<div>\n",
       "<style scoped>\n",
       "    .dataframe tbody tr th:only-of-type {\n",
       "        vertical-align: middle;\n",
       "    }\n",
       "\n",
       "    .dataframe tbody tr th {\n",
       "        vertical-align: top;\n",
       "    }\n",
       "\n",
       "    .dataframe thead th {\n",
       "        text-align: right;\n",
       "    }\n",
       "</style>\n",
       "<table border=\"1\" class=\"dataframe\">\n",
       "  <thead>\n",
       "    <tr style=\"text-align: right;\">\n",
       "      <th></th>\n",
       "      <th>Age</th>\n",
       "      <th>Sex</th>\n",
       "      <th>RestingBP</th>\n",
       "      <th>FastingBS</th>\n",
       "      <th>MaxHR</th>\n",
       "      <th>ExerciseAngina</th>\n",
       "      <th>HeartDisease</th>\n",
       "    </tr>\n",
       "  </thead>\n",
       "  <tbody>\n",
       "    <tr>\n",
       "      <th>0</th>\n",
       "      <td>40</td>\n",
       "      <td>M</td>\n",
       "      <td>140</td>\n",
       "      <td>0</td>\n",
       "      <td>172</td>\n",
       "      <td>N</td>\n",
       "      <td>0</td>\n",
       "    </tr>\n",
       "    <tr>\n",
       "      <th>1</th>\n",
       "      <td>49</td>\n",
       "      <td>F</td>\n",
       "      <td>160</td>\n",
       "      <td>0</td>\n",
       "      <td>156</td>\n",
       "      <td>N</td>\n",
       "      <td>1</td>\n",
       "    </tr>\n",
       "    <tr>\n",
       "      <th>2</th>\n",
       "      <td>37</td>\n",
       "      <td>M</td>\n",
       "      <td>130</td>\n",
       "      <td>0</td>\n",
       "      <td>98</td>\n",
       "      <td>N</td>\n",
       "      <td>0</td>\n",
       "    </tr>\n",
       "    <tr>\n",
       "      <th>3</th>\n",
       "      <td>48</td>\n",
       "      <td>F</td>\n",
       "      <td>138</td>\n",
       "      <td>0</td>\n",
       "      <td>108</td>\n",
       "      <td>Y</td>\n",
       "      <td>1</td>\n",
       "    </tr>\n",
       "    <tr>\n",
       "      <th>4</th>\n",
       "      <td>54</td>\n",
       "      <td>M</td>\n",
       "      <td>150</td>\n",
       "      <td>0</td>\n",
       "      <td>122</td>\n",
       "      <td>N</td>\n",
       "      <td>0</td>\n",
       "    </tr>\n",
       "  </tbody>\n",
       "</table>\n",
       "</div>"
      ],
      "text/plain": [
       "   Age Sex  RestingBP  FastingBS  MaxHR ExerciseAngina  HeartDisease\n",
       "0   40   M        140          0    172              N             0\n",
       "1   49   F        160          0    156              N             1\n",
       "2   37   M        130          0     98              N             0\n",
       "3   48   F        138          0    108              Y             1\n",
       "4   54   M        150          0    122              N             0"
      ]
     },
     "execution_count": 69,
     "metadata": {},
     "output_type": "execute_result"
    }
   ],
   "source": [
    "df=df.drop(labels=['ChestPainType', 'ST_Slope','RestingECG','Oldpeak','Cholesterol'], axis=1) \n",
    "df.head()"
   ]
  },
  {
   "cell_type": "code",
   "execution_count": 70,
   "metadata": {},
   "outputs": [],
   "source": [
    "string_col = df.select_dtypes(include=\"object\").columns\n",
    "df[string_col]=df[string_col].astype(\"string\")"
   ]
  },
  {
   "cell_type": "markdown",
   "metadata": {},
   "source": [
    "## Simple Analysis"
   ]
  },
  {
   "cell_type": "code",
   "execution_count": 71,
   "metadata": {},
   "outputs": [
    {
     "data": {
      "text/html": [
       "<div>\n",
       "<style scoped>\n",
       "    .dataframe tbody tr th:only-of-type {\n",
       "        vertical-align: middle;\n",
       "    }\n",
       "\n",
       "    .dataframe tbody tr th {\n",
       "        vertical-align: top;\n",
       "    }\n",
       "\n",
       "    .dataframe thead th {\n",
       "        text-align: right;\n",
       "    }\n",
       "</style>\n",
       "<table border=\"1\" class=\"dataframe\">\n",
       "  <thead>\n",
       "    <tr style=\"text-align: right;\">\n",
       "      <th></th>\n",
       "      <th>Age</th>\n",
       "      <th>Sex</th>\n",
       "      <th>RestingBP</th>\n",
       "      <th>FastingBS</th>\n",
       "      <th>MaxHR</th>\n",
       "      <th>ExerciseAngina</th>\n",
       "      <th>HeartDisease</th>\n",
       "    </tr>\n",
       "  </thead>\n",
       "  <tbody>\n",
       "    <tr>\n",
       "      <th>449</th>\n",
       "      <td>55</td>\n",
       "      <td>M</td>\n",
       "      <td>0</td>\n",
       "      <td>0</td>\n",
       "      <td>155</td>\n",
       "      <td>N</td>\n",
       "      <td>1</td>\n",
       "    </tr>\n",
       "  </tbody>\n",
       "</table>\n",
       "</div>"
      ],
      "text/plain": [
       "     Age Sex  RestingBP  FastingBS  MaxHR ExerciseAngina  HeartDisease\n",
       "449   55   M          0          0    155              N             1"
      ]
     },
     "execution_count": 71,
     "metadata": {},
     "output_type": "execute_result"
    }
   ],
   "source": [
    "df.loc[df['RestingBP'] == 0]\n"
   ]
  },
  {
   "cell_type": "code",
   "execution_count": 72,
   "metadata": {},
   "outputs": [],
   "source": [
    "df.drop([449], axis=0, inplace=True)"
   ]
  },
  {
   "cell_type": "code",
   "execution_count": null,
   "metadata": {},
   "outputs": [],
   "source": []
  },
  {
   "cell_type": "code",
   "execution_count": 73,
   "metadata": {},
   "outputs": [
    {
     "data": {
      "text/html": [
       "<div>\n",
       "<style scoped>\n",
       "    .dataframe tbody tr th:only-of-type {\n",
       "        vertical-align: middle;\n",
       "    }\n",
       "\n",
       "    .dataframe tbody tr th {\n",
       "        vertical-align: top;\n",
       "    }\n",
       "\n",
       "    .dataframe thead th {\n",
       "        text-align: right;\n",
       "    }\n",
       "</style>\n",
       "<table border=\"1\" class=\"dataframe\">\n",
       "  <thead>\n",
       "    <tr style=\"text-align: right;\">\n",
       "      <th></th>\n",
       "      <th>count</th>\n",
       "      <th>mean</th>\n",
       "      <th>std</th>\n",
       "      <th>min</th>\n",
       "      <th>25%</th>\n",
       "      <th>50%</th>\n",
       "      <th>75%</th>\n",
       "      <th>max</th>\n",
       "    </tr>\n",
       "  </thead>\n",
       "  <tbody>\n",
       "    <tr>\n",
       "      <th>Age</th>\n",
       "      <td>917.0</td>\n",
       "      <td>53.509269</td>\n",
       "      <td>9.437636</td>\n",
       "      <td>28.0</td>\n",
       "      <td>47.0</td>\n",
       "      <td>54.0</td>\n",
       "      <td>60.0</td>\n",
       "      <td>77.0</td>\n",
       "    </tr>\n",
       "    <tr>\n",
       "      <th>RestingBP</th>\n",
       "      <td>917.0</td>\n",
       "      <td>132.540894</td>\n",
       "      <td>17.999749</td>\n",
       "      <td>80.0</td>\n",
       "      <td>120.0</td>\n",
       "      <td>130.0</td>\n",
       "      <td>140.0</td>\n",
       "      <td>200.0</td>\n",
       "    </tr>\n",
       "    <tr>\n",
       "      <th>FastingBS</th>\n",
       "      <td>917.0</td>\n",
       "      <td>0.233370</td>\n",
       "      <td>0.423206</td>\n",
       "      <td>0.0</td>\n",
       "      <td>0.0</td>\n",
       "      <td>0.0</td>\n",
       "      <td>0.0</td>\n",
       "      <td>1.0</td>\n",
       "    </tr>\n",
       "    <tr>\n",
       "      <th>MaxHR</th>\n",
       "      <td>917.0</td>\n",
       "      <td>136.789531</td>\n",
       "      <td>25.467129</td>\n",
       "      <td>60.0</td>\n",
       "      <td>120.0</td>\n",
       "      <td>138.0</td>\n",
       "      <td>156.0</td>\n",
       "      <td>202.0</td>\n",
       "    </tr>\n",
       "    <tr>\n",
       "      <th>HeartDisease</th>\n",
       "      <td>917.0</td>\n",
       "      <td>0.552890</td>\n",
       "      <td>0.497466</td>\n",
       "      <td>0.0</td>\n",
       "      <td>0.0</td>\n",
       "      <td>1.0</td>\n",
       "      <td>1.0</td>\n",
       "      <td>1.0</td>\n",
       "    </tr>\n",
       "  </tbody>\n",
       "</table>\n",
       "</div>"
      ],
      "text/plain": [
       "              count        mean        std   min    25%    50%    75%    max\n",
       "Age           917.0   53.509269   9.437636  28.0   47.0   54.0   60.0   77.0\n",
       "RestingBP     917.0  132.540894  17.999749  80.0  120.0  130.0  140.0  200.0\n",
       "FastingBS     917.0    0.233370   0.423206   0.0    0.0    0.0    0.0    1.0\n",
       "MaxHR         917.0  136.789531  25.467129  60.0  120.0  138.0  156.0  202.0\n",
       "HeartDisease  917.0    0.552890   0.497466   0.0    0.0    1.0    1.0    1.0"
      ]
     },
     "execution_count": 73,
     "metadata": {},
     "output_type": "execute_result"
    }
   ],
   "source": [
    "df.describe().T"
   ]
  },
  {
   "cell_type": "code",
   "execution_count": 74,
   "metadata": {},
   "outputs": [
    {
     "data": {
      "text/html": [
       "<div>\n",
       "<style scoped>\n",
       "    .dataframe tbody tr th:only-of-type {\n",
       "        vertical-align: middle;\n",
       "    }\n",
       "\n",
       "    .dataframe tbody tr th {\n",
       "        vertical-align: top;\n",
       "    }\n",
       "\n",
       "    .dataframe thead th {\n",
       "        text-align: right;\n",
       "    }\n",
       "</style>\n",
       "<table border=\"1\" class=\"dataframe\">\n",
       "  <thead>\n",
       "    <tr style=\"text-align: right;\">\n",
       "      <th></th>\n",
       "      <th>Age</th>\n",
       "      <th>RestingBP</th>\n",
       "      <th>FastingBS</th>\n",
       "      <th>MaxHR</th>\n",
       "      <th>HeartDisease</th>\n",
       "    </tr>\n",
       "  </thead>\n",
       "  <tbody>\n",
       "    <tr>\n",
       "      <th>Age</th>\n",
       "      <td>1.000000</td>\n",
       "      <td>0.263084</td>\n",
       "      <td>0.198170</td>\n",
       "      <td>-0.382280</td>\n",
       "      <td>0.282012</td>\n",
       "    </tr>\n",
       "    <tr>\n",
       "      <th>RestingBP</th>\n",
       "      <td>0.263084</td>\n",
       "      <td>1.000000</td>\n",
       "      <td>0.067823</td>\n",
       "      <td>-0.109693</td>\n",
       "      <td>0.117990</td>\n",
       "    </tr>\n",
       "    <tr>\n",
       "      <th>FastingBS</th>\n",
       "      <td>0.198170</td>\n",
       "      <td>0.067823</td>\n",
       "      <td>1.000000</td>\n",
       "      <td>-0.131067</td>\n",
       "      <td>0.267994</td>\n",
       "    </tr>\n",
       "    <tr>\n",
       "      <th>MaxHR</th>\n",
       "      <td>-0.382280</td>\n",
       "      <td>-0.109693</td>\n",
       "      <td>-0.131067</td>\n",
       "      <td>1.000000</td>\n",
       "      <td>-0.401410</td>\n",
       "    </tr>\n",
       "    <tr>\n",
       "      <th>HeartDisease</th>\n",
       "      <td>0.282012</td>\n",
       "      <td>0.117990</td>\n",
       "      <td>0.267994</td>\n",
       "      <td>-0.401410</td>\n",
       "      <td>1.000000</td>\n",
       "    </tr>\n",
       "  </tbody>\n",
       "</table>\n",
       "</div>"
      ],
      "text/plain": [
       "                   Age  RestingBP  FastingBS     MaxHR  HeartDisease\n",
       "Age           1.000000   0.263084   0.198170 -0.382280      0.282012\n",
       "RestingBP     0.263084   1.000000   0.067823 -0.109693      0.117990\n",
       "FastingBS     0.198170   0.067823   1.000000 -0.131067      0.267994\n",
       "MaxHR        -0.382280  -0.109693  -0.131067  1.000000     -0.401410\n",
       "HeartDisease  0.282012   0.117990   0.267994 -0.401410      1.000000"
      ]
     },
     "execution_count": 74,
     "metadata": {},
     "output_type": "execute_result"
    }
   ],
   "source": [
    "df.corr()"
   ]
  },
  {
   "cell_type": "code",
   "execution_count": 75,
   "metadata": {},
   "outputs": [
    {
     "data": {
      "text/plain": [
       "Text(0.5, 1.0, 'We have similar samples size')"
      ]
     },
     "execution_count": 75,
     "metadata": {},
     "output_type": "execute_result"
    },
    {
     "data": {
      "image/png": "[encoded data removed]",
      "text/plain": [
       "<Figure size 432x288 with 1 Axes>"
      ]
     },
     "metadata": {},
     "output_type": "display_data"
    }
   ],
   "source": [
    "plt.hist(df['HeartDisease']) \n",
    "plt.title(\"We have similar samples size\")"
   ]
  },
  {
   "cell_type": "code",
   "execution_count": 78,
   "metadata": {},
   "outputs": [
    {
     "name": "stdout",
     "output_type": "stream",
     "text": [
      "M    724\n",
      "F    193\n",
      "Name: Sex, dtype: Int64\n"
     ]
    },
    {
     "data": {
      "text/plain": [
       "(array([724.,   0.,   0.,   0.,   0.,   0.,   0.,   0.,   0., 193.]),\n",
       " array([0. , 0.1, 0.2, 0.3, 0.4, 0.5, 0.6, 0.7, 0.8, 0.9, 1. ]),\n",
       " <BarContainer object of 10 artists>)"
      ]
     },
     "execution_count": 78,
     "metadata": {},
     "output_type": "execute_result"
    },
    {
     "data": {
      "image/png": "[encoded data removed]",
      "text/plain": [
       "<Figure size 432x288 with 1 Axes>"
      ]
     },
     "metadata": {},
     "output_type": "display_data"
    }
   ],
   "source": [
    "print(df['Sex'].value_counts())\n",
    "plt.hist(df['Sex']) \n"
   ]
  },
  {
   "cell_type": "code",
   "execution_count": null,
   "metadata": {},
   "outputs": [],
   "source": []
  },
  {
   "cell_type": "code",
   "execution_count": 77,
   "metadata": {},
   "outputs": [
    {
     "data": {
      "text/plain": [
       "(array([ 12.,  37.,  86., 104., 148., 200., 175., 101.,  39.,  15.]),\n",
       " array([28. , 32.9, 37.8, 42.7, 47.6, 52.5, 57.4, 62.3, 67.2, 72.1, 77. ]),\n",
       " <BarContainer object of 10 artists>)"
      ]
     },
     "execution_count": 77,
     "metadata": {},
     "output_type": "execute_result"
    },
    {
     "data": {
      "image/png": "[encoded data removed]",
      "text/plain": [
       "<Figure size 432x288 with 1 Axes>"
      ]
     },
     "metadata": {},
     "output_type": "display_data"
    }
   ],
   "source": [
    "plt.hist(df['Age']) "
   ]
  },
  {
   "cell_type": "markdown",
   "metadata": {},
   "source": [
    "### Preprocessing\n",
    "\n",
    "* We have to convert Sex and ExerciseAngina categorical features to numbers first for that purpose we can use LabelEncoder from sklearn\n"
   ]
  },
  {
   "cell_type": "code",
   "execution_count": 10,
   "metadata": {},
   "outputs": [],
   "source": [
    "\n",
    "df=pd.get_dummies(df,columns=[\"Sex\",\"ExerciseAngina\"],drop_first=False)"
   ]
  },
  {
   "cell_type": "code",
   "execution_count": 11,
   "metadata": {},
   "outputs": [
    {
     "data": {
      "text/html": [
       "<div>\n",
       "<style scoped>\n",
       "    .dataframe tbody tr th:only-of-type {\n",
       "        vertical-align: middle;\n",
       "    }\n",
       "\n",
       "    .dataframe tbody tr th {\n",
       "        vertical-align: top;\n",
       "    }\n",
       "\n",
       "    .dataframe thead th {\n",
       "        text-align: right;\n",
       "    }\n",
       "</style>\n",
       "<table border=\"1\" class=\"dataframe\">\n",
       "  <thead>\n",
       "    <tr style=\"text-align: right;\">\n",
       "      <th></th>\n",
       "      <th>Age</th>\n",
       "      <th>RestingBP</th>\n",
       "      <th>FastingBS</th>\n",
       "      <th>MaxHR</th>\n",
       "      <th>HeartDisease</th>\n",
       "      <th>Sex_F</th>\n",
       "      <th>Sex_M</th>\n",
       "      <th>ExerciseAngina_N</th>\n",
       "      <th>ExerciseAngina_Y</th>\n",
       "    </tr>\n",
       "  </thead>\n",
       "  <tbody>\n",
       "    <tr>\n",
       "      <th>0</th>\n",
       "      <td>40</td>\n",
       "      <td>140</td>\n",
       "      <td>0</td>\n",
       "      <td>172</td>\n",
       "      <td>0</td>\n",
       "      <td>0</td>\n",
       "      <td>1</td>\n",
       "      <td>1</td>\n",
       "      <td>0</td>\n",
       "    </tr>\n",
       "    <tr>\n",
       "      <th>1</th>\n",
       "      <td>49</td>\n",
       "      <td>160</td>\n",
       "      <td>0</td>\n",
       "      <td>156</td>\n",
       "      <td>1</td>\n",
       "      <td>1</td>\n",
       "      <td>0</td>\n",
       "      <td>1</td>\n",
       "      <td>0</td>\n",
       "    </tr>\n",
       "    <tr>\n",
       "      <th>2</th>\n",
       "      <td>37</td>\n",
       "      <td>130</td>\n",
       "      <td>0</td>\n",
       "      <td>98</td>\n",
       "      <td>0</td>\n",
       "      <td>0</td>\n",
       "      <td>1</td>\n",
       "      <td>1</td>\n",
       "      <td>0</td>\n",
       "    </tr>\n",
       "    <tr>\n",
       "      <th>3</th>\n",
       "      <td>48</td>\n",
       "      <td>138</td>\n",
       "      <td>0</td>\n",
       "      <td>108</td>\n",
       "      <td>1</td>\n",
       "      <td>1</td>\n",
       "      <td>0</td>\n",
       "      <td>0</td>\n",
       "      <td>1</td>\n",
       "    </tr>\n",
       "    <tr>\n",
       "      <th>4</th>\n",
       "      <td>54</td>\n",
       "      <td>150</td>\n",
       "      <td>0</td>\n",
       "      <td>122</td>\n",
       "      <td>0</td>\n",
       "      <td>0</td>\n",
       "      <td>1</td>\n",
       "      <td>1</td>\n",
       "      <td>0</td>\n",
       "    </tr>\n",
       "  </tbody>\n",
       "</table>\n",
       "</div>"
      ],
      "text/plain": [
       "   Age  RestingBP  FastingBS  MaxHR  HeartDisease  Sex_F  Sex_M  \\\n",
       "0   40        140          0    172             0      0      1   \n",
       "1   49        160          0    156             1      1      0   \n",
       "2   37        130          0     98             0      0      1   \n",
       "3   48        138          0    108             1      1      0   \n",
       "4   54        150          0    122             0      0      1   \n",
       "\n",
       "   ExerciseAngina_N  ExerciseAngina_Y  \n",
       "0                 1                 0  \n",
       "1                 1                 0  \n",
       "2                 1                 0  \n",
       "3                 0                 1  \n",
       "4                 1                 0  "
      ]
     },
     "execution_count": 11,
     "metadata": {},
     "output_type": "execute_result"
    }
   ],
   "source": [
    "df.head()"
   ]
  },
  {
   "cell_type": "code",
   "execution_count": 12,
   "metadata": {},
   "outputs": [
    {
     "data": {
      "text/html": [
       "<div>\n",
       "<style scoped>\n",
       "    .dataframe tbody tr th:only-of-type {\n",
       "        vertical-align: middle;\n",
       "    }\n",
       "\n",
       "    .dataframe tbody tr th {\n",
       "        vertical-align: top;\n",
       "    }\n",
       "\n",
       "    .dataframe thead th {\n",
       "        text-align: right;\n",
       "    }\n",
       "</style>\n",
       "<table border=\"1\" class=\"dataframe\">\n",
       "  <thead>\n",
       "    <tr style=\"text-align: right;\">\n",
       "      <th></th>\n",
       "      <th>Age</th>\n",
       "      <th>RestingBP</th>\n",
       "      <th>FastingBS</th>\n",
       "      <th>MaxHR</th>\n",
       "      <th>HeartDisease</th>\n",
       "      <th>Sex_F</th>\n",
       "      <th>Sex_M</th>\n",
       "      <th>ExerciseAngina_N</th>\n",
       "      <th>ExerciseAngina_Y</th>\n",
       "    </tr>\n",
       "  </thead>\n",
       "  <tbody>\n",
       "    <tr>\n",
       "      <th>Age</th>\n",
       "      <td>1.000000</td>\n",
       "      <td>0.263084</td>\n",
       "      <td>0.198170</td>\n",
       "      <td>-0.382280</td>\n",
       "      <td>0.282012</td>\n",
       "      <td>-0.055670</td>\n",
       "      <td>0.055670</td>\n",
       "      <td>-0.216017</td>\n",
       "      <td>0.216017</td>\n",
       "    </tr>\n",
       "    <tr>\n",
       "      <th>RestingBP</th>\n",
       "      <td>0.263084</td>\n",
       "      <td>1.000000</td>\n",
       "      <td>0.067823</td>\n",
       "      <td>-0.109693</td>\n",
       "      <td>0.117990</td>\n",
       "      <td>-0.009427</td>\n",
       "      <td>0.009427</td>\n",
       "      <td>-0.153064</td>\n",
       "      <td>0.153064</td>\n",
       "    </tr>\n",
       "    <tr>\n",
       "      <th>FastingBS</th>\n",
       "      <td>0.198170</td>\n",
       "      <td>0.067823</td>\n",
       "      <td>1.000000</td>\n",
       "      <td>-0.131067</td>\n",
       "      <td>0.267994</td>\n",
       "      <td>-0.120424</td>\n",
       "      <td>0.120424</td>\n",
       "      <td>-0.059988</td>\n",
       "      <td>0.059988</td>\n",
       "    </tr>\n",
       "    <tr>\n",
       "      <th>MaxHR</th>\n",
       "      <td>-0.382280</td>\n",
       "      <td>-0.109693</td>\n",
       "      <td>-0.131067</td>\n",
       "      <td>1.000000</td>\n",
       "      <td>-0.401410</td>\n",
       "      <td>0.189668</td>\n",
       "      <td>-0.189668</td>\n",
       "      <td>0.370023</td>\n",
       "      <td>-0.370023</td>\n",
       "    </tr>\n",
       "    <tr>\n",
       "      <th>HeartDisease</th>\n",
       "      <td>0.282012</td>\n",
       "      <td>0.117990</td>\n",
       "      <td>0.267994</td>\n",
       "      <td>-0.401410</td>\n",
       "      <td>1.000000</td>\n",
       "      <td>-0.305118</td>\n",
       "      <td>0.305118</td>\n",
       "      <td>-0.495490</td>\n",
       "      <td>0.495490</td>\n",
       "    </tr>\n",
       "    <tr>\n",
       "      <th>Sex_F</th>\n",
       "      <td>-0.055670</td>\n",
       "      <td>-0.009427</td>\n",
       "      <td>-0.120424</td>\n",
       "      <td>0.189668</td>\n",
       "      <td>-0.305118</td>\n",
       "      <td>1.000000</td>\n",
       "      <td>-1.000000</td>\n",
       "      <td>0.191226</td>\n",
       "      <td>-0.191226</td>\n",
       "    </tr>\n",
       "    <tr>\n",
       "      <th>Sex_M</th>\n",
       "      <td>0.055670</td>\n",
       "      <td>0.009427</td>\n",
       "      <td>0.120424</td>\n",
       "      <td>-0.189668</td>\n",
       "      <td>0.305118</td>\n",
       "      <td>-1.000000</td>\n",
       "      <td>1.000000</td>\n",
       "      <td>-0.191226</td>\n",
       "      <td>0.191226</td>\n",
       "    </tr>\n",
       "    <tr>\n",
       "      <th>ExerciseAngina_N</th>\n",
       "      <td>-0.216017</td>\n",
       "      <td>-0.153064</td>\n",
       "      <td>-0.059988</td>\n",
       "      <td>0.370023</td>\n",
       "      <td>-0.495490</td>\n",
       "      <td>0.191226</td>\n",
       "      <td>-0.191226</td>\n",
       "      <td>1.000000</td>\n",
       "      <td>-1.000000</td>\n",
       "    </tr>\n",
       "    <tr>\n",
       "      <th>ExerciseAngina_Y</th>\n",
       "      <td>0.216017</td>\n",
       "      <td>0.153064</td>\n",
       "      <td>0.059988</td>\n",
       "      <td>-0.370023</td>\n",
       "      <td>0.495490</td>\n",
       "      <td>-0.191226</td>\n",
       "      <td>0.191226</td>\n",
       "      <td>-1.000000</td>\n",
       "      <td>1.000000</td>\n",
       "    </tr>\n",
       "  </tbody>\n",
       "</table>\n",
       "</div>"
      ],
      "text/plain": [
       "                       Age  RestingBP  FastingBS     MaxHR  HeartDisease  \\\n",
       "Age               1.000000   0.263084   0.198170 -0.382280      0.282012   \n",
       "RestingBP         0.263084   1.000000   0.067823 -0.109693      0.117990   \n",
       "FastingBS         0.198170   0.067823   1.000000 -0.131067      0.267994   \n",
       "MaxHR            -0.382280  -0.109693  -0.131067  1.000000     -0.401410   \n",
       "HeartDisease      0.282012   0.117990   0.267994 -0.401410      1.000000   \n",
       "Sex_F            -0.055670  -0.009427  -0.120424  0.189668     -0.305118   \n",
       "Sex_M             0.055670   0.009427   0.120424 -0.189668      0.305118   \n",
       "ExerciseAngina_N -0.216017  -0.153064  -0.059988  0.370023     -0.495490   \n",
       "ExerciseAngina_Y  0.216017   0.153064   0.059988 -0.370023      0.495490   \n",
       "\n",
       "                     Sex_F     Sex_M  ExerciseAngina_N  ExerciseAngina_Y  \n",
       "Age              -0.055670  0.055670         -0.216017          0.216017  \n",
       "RestingBP        -0.009427  0.009427         -0.153064          0.153064  \n",
       "FastingBS        -0.120424  0.120424         -0.059988          0.059988  \n",
       "MaxHR             0.189668 -0.189668          0.370023         -0.370023  \n",
       "HeartDisease     -0.305118  0.305118         -0.495490          0.495490  \n",
       "Sex_F             1.000000 -1.000000          0.191226         -0.191226  \n",
       "Sex_M            -1.000000  1.000000         -0.191226          0.191226  \n",
       "ExerciseAngina_N  0.191226 -0.191226          1.000000         -1.000000  \n",
       "ExerciseAngina_Y -0.191226  0.191226         -1.000000          1.000000  "
      ]
     },
     "execution_count": 12,
     "metadata": {},
     "output_type": "execute_result"
    }
   ],
   "source": [
    "df.corr()"
   ]
  },
  {
   "cell_type": "code",
   "execution_count": 13,
   "metadata": {
    "scrolled": true
   },
   "outputs": [],
   "source": [
    "y=df['HeartDisease'].to_numpy()\n",
    "X=df.drop(columns='HeartDisease',axis=1)\n",
    "X=X.to_numpy().reshape(917,-1)"
   ]
  },
  {
   "cell_type": "markdown",
   "metadata": {},
   "source": [
    "### Test of LogisticRegression after normalization"
   ]
  },
  {
   "cell_type": "code",
   "execution_count": 14,
   "metadata": {
    "tags": []
   },
   "outputs": [
    {
     "name": "stdout",
     "output_type": "stream",
     "text": [
      "\n",
      "\n",
      "TRIAL C=0.0001 \n",
      "\n",
      "training loss:  16.25722713646012\n",
      "validation loss:  13.793031996941407\n",
      "\n",
      "training accuracies:  0.5293159609120521\n",
      "validation accuracies: 0.6006600660066007\n",
      "\n",
      "\n",
      "TRIAL C=0.001 \n",
      "\n",
      "training loss:  13.27579012476851\n",
      "validation loss:  10.601248080842941\n",
      "\n",
      "training accuracies:  0.6156351791530945\n",
      "validation accuracies: 0.693069306930693\n",
      "\n",
      "\n",
      "TRIAL C=0.01 \n",
      "\n",
      "training loss:  8.156628263046304\n",
      "validation loss:  7.18137196844309\n",
      "\n",
      "training accuracies:  0.7638436482084691\n",
      "validation accuracies: 0.7920792079207921\n",
      "\n",
      "\n",
      "TRIAL C=0.1 \n",
      "\n",
      "training loss:  7.931618645494067\n",
      "validation loss:  6.9533958852998845\n",
      "\n",
      "training accuracies:  0.7703583061889251\n",
      "validation accuracies: 0.7986798679867987\n",
      "\n",
      "\n",
      "TRIAL C=1 \n",
      "\n",
      "training loss:  7.762863711312796\n",
      "validation loss:  6.95340116317071\n",
      "\n",
      "training accuracies:  0.7752442996742671\n",
      "validation accuracies: 0.7986798679867987\n",
      "\n",
      "\n",
      "TRIAL C=10 \n",
      "\n",
      "training loss:  7.762868920416575\n",
      "validation loss:  7.181385163120156\n",
      "\n",
      "training accuracies:  0.7752442996742671\n",
      "validation accuracies: 0.7920792079207921\n",
      "\n",
      "\n",
      "TRIAL C=100 \n",
      "\n",
      "training loss:  7.875374380330664\n",
      "validation loss:  7.181385163120156\n",
      "\n",
      "training accuracies:  0.7719869706840391\n",
      "validation accuracies: 0.7920792079207921\n",
      "\n",
      "\n",
      "TRIAL C=1000 \n",
      "\n",
      "training loss:  7.875374380330664\n",
      "validation loss:  7.181385163120156\n",
      "\n",
      "training accuracies:  0.7719869706840391\n",
      "validation accuracies: 0.7920792079207921\n",
      "\n",
      "\n",
      "TRIAL C=10000 \n",
      "\n",
      "training loss:  7.875374380330664\n",
      "validation loss:  7.181385163120156\n",
      "\n",
      "training accuracies:  0.7719869706840391\n",
      "validation accuracies: 0.7920792079207921\n",
      "\n",
      "\n",
      "TRIAL C=10000 \n",
      "\n",
      "training loss:  7.875374380330664\n",
      "validation loss:  7.181385163120156\n",
      "\n",
      "training accuracies:  0.7719869706840391\n",
      "validation accuracies: 0.7920792079207921\n"
     ]
    }
   ],
   "source": [
    "X_clf_train, X_clf_val, y_clf_train, y_clf_val = train_test_split(X, y, test_size=0.33, random_state=42)\n",
    "\n",
    "# C is the inverse of regularization strength,\n",
    "#use a very large C to greatly weaken regularization strength\n",
    "C=[0.0001, 0.001,0.01,0.1,1,10,100,1000,10000,10000]\n",
    "c = 10\n",
    "for c in C:\n",
    "    \n",
    "    clf = LogisticRegression(C=c)       \n",
    "\n",
    "    ro_scaler=MinMaxScaler()\n",
    "    X_clf_train=ro_scaler.fit_transform(X_clf_train)\n",
    "    X_clf_val=ro_scaler.transform(X_clf_val)\n",
    "    clf.fit(X_clf_train,y_clf_train)\n",
    "\n",
    "    y_pred_train=clf.predict(X_clf_train)\n",
    "    acc_train=accuracy_score(y_clf_train,y_pred_train)\n",
    "    tr_accs=acc_train\n",
    "\n",
    "    y_pred_val=clf.predict(X_clf_val)\n",
    "    acc_val=accuracy_score(y_clf_val,y_pred_val)\n",
    "    val_accs= acc_val\n",
    "\n",
    "    loss_train=log_loss(y_clf_train,y_pred_train)\n",
    "    loss_val=log_loss(y_clf_val,y_pred_val)\n",
    "    print(\"\\n\\nTRIAL C=\"+str(c)+\" \\n\")\n",
    "    print(\"training loss: \",loss_train)\n",
    "    print(\"validation loss: \",loss_val)\n",
    "    print(\"\\ntraining accuracies: \",tr_accs)\n",
    "    print(\"validation accuracies:\",val_accs)\n"
   ]
  },
  {
   "cell_type": "code",
   "execution_count": 15,
   "metadata": {
    "ExecuteTime": {
     "end_time": "2022-02-03T19:22:53.612849Z",
     "start_time": "2022-02-03T19:22:53.607827Z"
    },
    "deletable": false,
    "editable": false,
    "nbgrader": {
     "cell_type": "code",
     "checksum": "44df05801e4cd65a98f6530305eadb8a",
     "grade": false,
     "grade_id": "cell-0abc3bf5a94b73f3",
     "locked": true,
     "schema_version": 3,
     "solution": false,
     "task": false
    }
   },
   "outputs": [],
   "source": [
    "from sklearn.model_selection import KFold\n",
    "\n",
    "from sklearn.model_selection import KFold"
   ]
  },
  {
   "cell_type": "markdown",
   "metadata": {},
   "source": [
    "## Logistic regression with KFold Cross Validation"
   ]
  },
  {
   "cell_type": "code",
   "execution_count": 18,
   "metadata": {
    "tags": []
   },
   "outputs": [
    {
     "name": "stdout",
     "output_type": "stream",
     "text": [
      "\n",
      "\n",
      "TRIAL C=0.0001 \n",
      "\n",
      " avg train accuracy = 0.59935, avg val accuracy = 0.59942\n",
      " avg train loss = 13.83830, avg val loss = 13.83592\n",
      "\n",
      "\n",
      "TRIAL C=0.001 \n",
      "\n",
      " avg train accuracy = 0.59935, avg val accuracy = 0.59942\n",
      " avg train loss = 13.83830, avg val loss = 13.83592\n",
      "\n",
      "\n",
      "TRIAL C=0.01 \n",
      "\n",
      " avg train accuracy = 0.74846, avg val accuracy = 0.73146\n",
      " avg train loss = 8.68792, avg val loss = 9.27506\n",
      "\n",
      "\n",
      "TRIAL C=0.1 \n",
      "\n",
      " avg train accuracy = 0.82429, avg val accuracy = 0.82255\n",
      " avg train loss = 6.06901, avg val loss = 6.12882\n",
      "\n",
      "\n",
      "TRIAL C=1 \n",
      "\n",
      " avg train accuracy = 0.82610, avg val accuracy = 0.82417\n",
      " avg train loss = 6.00650, avg val loss = 6.07311\n",
      "\n",
      "\n",
      "TRIAL C=10 \n",
      "\n",
      " avg train accuracy = 0.82664, avg val accuracy = 0.81769\n",
      " avg train loss = 5.98772, avg val loss = 6.29686\n",
      "\n",
      "\n",
      "TRIAL C=100 \n",
      "\n",
      " avg train accuracy = 0.82682, avg val accuracy = 0.81769\n",
      " avg train loss = 5.98146, avg val loss = 6.29686\n",
      "\n",
      "\n",
      "TRIAL C=1000 \n",
      "\n",
      " avg train accuracy = 0.82682, avg val accuracy = 0.81769\n",
      " avg train loss = 5.98146, avg val loss = 6.29686\n",
      "\n",
      "\n",
      "TRIAL C=10000 \n",
      "\n",
      " avg train accuracy = 0.82682, avg val accuracy = 0.81769\n",
      " avg train loss = 5.98146, avg val loss = 6.29686\n",
      "\n",
      "\n",
      "TRIAL C=100000 \n",
      "\n",
      " avg train accuracy = 0.82682, avg val accuracy = 0.81769\n",
      " avg train loss = 5.98146, avg val loss = 6.29686\n"
     ]
    }
   ],
   "source": [
    "X_TR, X_TEST, y_TR, y_TEST = train_test_split( X, y, test_size=0.33, random_state=42)\n",
    "\n",
    "k, shuffle, seed = 10, True, 42\n",
    "kfold = KFold(n_splits=k, shuffle=shuffle, random_state=seed)\n",
    "\n",
    "\n",
    "C=[0.0001, 0.001,0.01,0.1,1,10,100,1000,10000,100000]\n",
    "for c in C:\n",
    "    \n",
    "\n",
    "    tr_errors = [] \n",
    "    val_errors = []\n",
    "    tr_loss=[] \n",
    "    val_loss=[]\n",
    "\n",
    "    for j, (train_indices, val_indices) in enumerate(kfold.split(X_TR)): \n",
    "\n",
    "        X_train, y_train, X_val, y_val = X[train_indices], y[train_indices], X[val_indices], y[val_indices]\n",
    "\n",
    "       \n",
    "        #scale\n",
    "        ro_scaler=MinMaxScaler()\n",
    "        X_train=ro_scaler.fit_transform(X_train)\n",
    "        X_val=ro_scaler.transform(X_val)\n",
    "        \n",
    "        #train\n",
    "        clf = LogisticRegression(C=c)    \n",
    "        clf.fit(X_train,y_train)\n",
    "\n",
    "        #predict and accuracy score\n",
    "        y_pred_train=clf.predict(X_train)\n",
    "        acc_train=accuracy_score(y_train,y_pred_train)\n",
    "        y_pred_val=clf.predict(X_val)\n",
    "        acc_val=accuracy_score(y_val,y_pred_val)\n",
    "        \n",
    "        #loss calculation \n",
    "        loss_train=log_loss(y_train,y_pred_train)\n",
    "        loss_val=log_loss(y_val,y_pred_val)   \n",
    "\n",
    "\n",
    "\n",
    "        val_loss.append(loss_val)\n",
    "        tr_loss.append(loss_train)\n",
    "        tr_errors.append(acc_train)\n",
    "        val_errors.append(acc_val)\n",
    "        \n",
    "\n",
    "\n",
    "    #Average accuracy score and loss over K fold\n",
    "    average_train_error = np.mean(tr_errors)\n",
    "    average_val_error = np.mean(val_errors)\n",
    "    average_val_loss=np.mean(val_loss)\n",
    "    average_tr_loss=np.mean(tr_loss)\n",
    "    print(\"\\n\\nTRIAL C=\"+str(c)+\" \\n\")\n",
    "    print(f\" avg train accuracy = {average_train_error:.5f}, \"\n",
    "              f\"avg val accuracy = {average_val_error:.5f}\")\n",
    "    print(f\" avg train loss = {average_tr_loss:.5f}, \"\n",
    "              f\"avg val loss = {average_val_loss:.5f}\")\n",
    "    \n",
    "    "
   ]
  },
  {
   "cell_type": "markdown",
   "metadata": {},
   "source": [
    "## Loss, Accuracy and other scores analysis"
   ]
  },
  {
   "cell_type": "code",
   "execution_count": 19,
   "metadata": {},
   "outputs": [
    {
     "data": {
      "text/plain": [
       "0.7986798679867987"
      ]
     },
     "execution_count": 19,
     "metadata": {},
     "output_type": "execute_result"
    }
   ],
   "source": [
    "\n",
    "ro_scaler=MinMaxScaler()\n",
    "X_TR=ro_scaler.fit_transform(X_TR)\n",
    "X_TEST=ro_scaler.transform(X_TEST)\n",
    "clf_1=LogisticRegression(C=1)   \n",
    "clf_1=clf_1.fit(X_TR,y_TR)       \n",
    "y_train_pred=clf_1.predict(X_TR)\n",
    "y_val_pred=clf_1.predict(X_TEST)\n",
    "accuracy=accuracy_score(y_TEST,y_val_pred) \n",
    "accuracy"
   ]
  },
  {
   "cell_type": "code",
   "execution_count": null,
   "metadata": {},
   "outputs": [],
   "source": [
    "\n"
   ]
  },
  {
   "cell_type": "code",
   "execution_count": 20,
   "metadata": {},
   "outputs": [
    {
     "data": {
      "text/plain": [
       "[Text(0, 0.5, '0'), Text(0, 1.5, '1')]"
      ]
     },
     "execution_count": 20,
     "metadata": {},
     "output_type": "execute_result"
    },
    {
     "data": {
      "image/png": "[encoded data removed]",
      "text/plain": [
       "<Figure size 432x288 with 2 Axes>"
      ]
     },
     "metadata": {},
     "output_type": "display_data"
    }
   ],
   "source": [
    "X_scaled=ro_scaler.fit_transform(X)\n",
    "y_pred=clf_1.predict(X_scaled)\n",
    "conf_mat=confusion_matrix(y,y_pred) \n",
    "ax= plt.subplot()\n",
    "\n",
    "sns.heatmap(conf_mat, annot=True, fmt='g', ax=ax)\n",
    "\n",
    "ax.set_xlabel('Predicted labels',fontsize=15)\n",
    "ax.set_ylabel('True labels',fontsize=15)\n",
    "ax.set_title('Confusion Matrix',fontsize=15)\n",
    "ax.xaxis.set_ticklabels(['0', '1'],fontsize=15)\n",
    "ax.yaxis.set_ticklabels(['0', '1'],fontsize=15)"
   ]
  },
  {
   "cell_type": "code",
   "execution_count": 21,
   "metadata": {},
   "outputs": [],
   "source": [
    "TN=conf_mat[0][0]\n",
    "TP=conf_mat[1][1]\n",
    "FP=conf_mat[0][1]\n",
    "FN=conf_mat[1][0]"
   ]
  },
  {
   "cell_type": "code",
   "execution_count": 22,
   "metadata": {},
   "outputs": [],
   "source": [
    "Accuracy=(TN+TP)/(TN+TP+FP+FN)\n",
    "Precision=TP/(TP+FP)\n",
    "Recall=TP/(TP+FN)\n",
    "F1=2*(Precision*Recall)/(Precision+Recall)"
   ]
  },
  {
   "cell_type": "code",
   "execution_count": 23,
   "metadata": {},
   "outputs": [
    {
     "name": "stdout",
     "output_type": "stream",
     "text": [
      "Accuracy is  0.7862595419847328 \n",
      "Precision is  0.8273684210526315 \n",
      "Recall is 0.7751479289940828 \n",
      "F1 is  0.80040733197556\n"
     ]
    }
   ],
   "source": [
    "print(\"Accuracy is \" , Accuracy , \"\\nPrecision is \", Precision, \"\\nRecall is\" , Recall, \"\\nF1 is \",  F1, sep=\" \")"
   ]
  },
  {
   "cell_type": "markdown",
   "metadata": {},
   "source": [
    "## SVM ( Support Vector Classification)"
   ]
  },
  {
   "cell_type": "code",
   "execution_count": null,
   "metadata": {},
   "outputs": [],
   "source": []
  },
  {
   "cell_type": "code",
   "execution_count": 24,
   "metadata": {},
   "outputs": [],
   "source": [
    "from sklearn.svm import SVC"
   ]
  },
  {
   "cell_type": "code",
   "execution_count": 25,
   "metadata": {
    "tags": []
   },
   "outputs": [
    {
     "name": "stdout",
     "output_type": "stream",
     "text": [
      "\n",
      "\n",
      "TRIAL C=0.0001 \n",
      "\n",
      " avg train accuracy = 0.59935, avg val accuracy = 0.59931\n",
      " avg train loss = 13.83842, avg val loss = 13.83977\n",
      "\n",
      "\n",
      "TRIAL C=0.001 \n",
      "\n",
      " avg train accuracy = 0.59935, avg val accuracy = 0.59931\n",
      " avg train loss = 13.83842, avg val loss = 13.83977\n",
      "\n",
      "\n",
      "TRIAL C=0.01 \n",
      "\n",
      " avg train accuracy = 0.59935, avg val accuracy = 0.59931\n",
      " avg train loss = 13.83842, avg val loss = 13.83977\n",
      "\n",
      "\n",
      "TRIAL C=0.1 \n",
      "\n",
      " avg train accuracy = 0.82899, avg val accuracy = 0.82896\n",
      " avg train loss = 5.90659, avg val loss = 5.90751\n",
      "\n",
      "\n",
      "TRIAL C=1 \n",
      "\n",
      " avg train accuracy = 0.83103, avg val accuracy = 0.81758\n",
      " avg train loss = 5.83625, avg val loss = 6.30064\n",
      "\n",
      "\n",
      "TRIAL C=10 \n",
      "\n",
      " avg train accuracy = 0.83387, avg val accuracy = 0.81758\n",
      " avg train loss = 5.73782, avg val loss = 6.30064\n",
      "\n",
      "\n",
      "TRIAL C=100 \n",
      "\n",
      " avg train accuracy = 0.84609, avg val accuracy = 0.81594\n",
      " avg train loss = 5.31592, avg val loss = 6.35726\n",
      "\n",
      "\n",
      "TRIAL C=1000 \n",
      "\n",
      " avg train accuracy = 0.86727, avg val accuracy = 0.80458\n",
      " avg train loss = 4.58450, avg val loss = 6.74946\n",
      "\n",
      "\n",
      "TRIAL C=10000 \n",
      "\n",
      " avg train accuracy = 0.88966, avg val accuracy = 0.78824\n",
      " avg train loss = 3.81114, avg val loss = 7.31383\n",
      "\n",
      "\n",
      "TRIAL C=100000 \n",
      "\n",
      " avg train accuracy = 0.90472, avg val accuracy = 0.76058\n",
      " avg train loss = 3.29080, avg val loss = 8.26950\n"
     ]
    }
   ],
   "source": [
    "X_TR, X_TEST, y_TR, y_TEST = train_test_split( X, y, test_size=0.33, random_state=42)\n",
    "\n",
    "\n",
    "k, shuffle, seed = 5, True, 42\n",
    "kfold = KFold(n_splits=k, shuffle=shuffle, random_state=seed)\n",
    "\n",
    "C=[0.0001, 0.001,0.01,0.1,1,10,100,1000,10000,100000]\n",
    "for c in C:\n",
    "\n",
    "\n",
    "    tr_errors = []\n",
    "    val_errors = []\n",
    "    tr_loss=[] \n",
    "    val_loss=[]\n",
    "\n",
    "    for j, (train_indices, val_indices) in enumerate(kfold.split(X_TR)): \n",
    "\n",
    "        X_train, y_train, X_val, y_val = X[train_indices], y[train_indices], X[val_indices], y[val_indices]\n",
    "\n",
    "\n",
    "        clf=SVC(kernel=\"rbf\",C=c)\n",
    "\n",
    "        ro_scaler=MinMaxScaler()\n",
    "        X_train=ro_scaler.fit_transform(X_train)\n",
    "        X_val=ro_scaler.transform(X_val)\n",
    "        clf.fit(X_train,y_train)\n",
    "\n",
    "\n",
    "        y_pred_train=clf.predict(X_train)\n",
    "        acc_train=accuracy_score(y_train,y_pred_train)\n",
    "\n",
    "\n",
    "        y_pred_val=clf.predict(X_val)\n",
    "        acc_val=accuracy_score(y_val,y_pred_val)\n",
    "        loss_train=log_loss(y_train,y_pred_train)\n",
    "        loss_val=log_loss(y_val,y_pred_val)   \n",
    "\n",
    "\n",
    "        val_loss.append(loss_val)\n",
    "        tr_loss.append(loss_train)\n",
    "        tr_errors.append(acc_train)\n",
    "        val_errors.append(acc_val)\n",
    "        #print(f'\\nCV iteration = {j}\\nTraining Accuracy = {acc_train:.5}\\nValidation Accuracy = {acc_val:.5}')  \n",
    "        \n",
    "    #Average accuracy score and loss over K fold\n",
    "    average_train_error = np.mean(tr_errors)\n",
    "    average_val_error = np.mean(val_errors)\n",
    "    average_val_loss=np.mean(val_loss)\n",
    "    average_tr_loss=np.mean(tr_loss)\n",
    "    print(\"\\n\\nTRIAL C=\"+str(c)+\" \\n\")\n",
    "    print(f\" avg train accuracy = {average_train_error:.5f}, \"\n",
    "              f\"avg val accuracy = {average_val_error:.5f}\")\n",
    "    print(f\" avg train loss = {average_tr_loss:.5f}, \"\n",
    "              f\"avg val loss = {average_val_loss:.5f}\")\n",
    "\n",
    "\n"
   ]
  },
  {
   "cell_type": "markdown",
   "metadata": {},
   "source": [
    "## Loss, Accuracy and other scores analysis"
   ]
  },
  {
   "cell_type": "code",
   "execution_count": 37,
   "metadata": {},
   "outputs": [
    {
     "data": {
      "text/plain": [
       "0.7986798679867987"
      ]
     },
     "execution_count": 37,
     "metadata": {},
     "output_type": "execute_result"
    }
   ],
   "source": [
    "X_train, X_val, y_train, y_val = train_test_split( X, y, test_size=0.33, random_state=42)\n",
    "ro_scaler=MinMaxScaler()\n",
    "X_TR=ro_scaler.fit_transform(X_TR)\n",
    "X_TEST=ro_scaler.transform(X_TEST)\n",
    "clf_1=SVC(kernel=\"rbf\",C=0.1)\n",
    "clf_1=clf_1.fit(X_TR,y_TR)       \n",
    "y_train_pred=clf_1.predict(X_TR)\n",
    "y_val_pred=clf_1.predict(X_TEST)\n",
    "accuracy=accuracy_score(y_TEST,y_val_pred) \n",
    "accuracy"
   ]
  },
  {
   "cell_type": "code",
   "execution_count": 38,
   "metadata": {},
   "outputs": [
    {
     "data": {
      "text/plain": [
       "[Text(0, 0.5, '0'), Text(0, 1.5, '1')]"
      ]
     },
     "execution_count": 38,
     "metadata": {},
     "output_type": "execute_result"
    },
    {
     "data": {
      "image/png": "[encoded data removed]",
      "text/plain": [
       "<Figure size 432x288 with 2 Axes>"
      ]
     },
     "metadata": {},
     "output_type": "display_data"
    }
   ],
   "source": [
    "\n",
    "y_pred=clf_1.predict(X_scaled)\n",
    "conf_mat=confusion_matrix(y,y_pred) \n",
    "ax= plt.subplot()\n",
    "\n",
    "sns.heatmap(conf_mat, annot=True, fmt='g', ax=ax)\n",
    "\n",
    "ax.set_xlabel('Predicted labels',fontsize=15)\n",
    "ax.set_ylabel('True labels',fontsize=15)\n",
    "ax.set_title('Confusion Matrix',fontsize=15)\n",
    "ax.xaxis.set_ticklabels(['0', '1'],fontsize=15)\n",
    "ax.yaxis.set_ticklabels(['0', '1'],fontsize=15)"
   ]
  },
  {
   "cell_type": "code",
   "execution_count": 39,
   "metadata": {},
   "outputs": [],
   "source": [
    "TN=conf_mat[0][0]\n",
    "TP=conf_mat[1][1]\n",
    "FP=conf_mat[0][1]\n",
    "FN=conf_mat[1][0]"
   ]
  },
  {
   "cell_type": "code",
   "execution_count": 40,
   "metadata": {},
   "outputs": [],
   "source": [
    "Accuracy=(TN+TP)/(TN+TP+FP+FN)\n",
    "Precision=TP/(TP+FP)\n",
    "Recall=TP/(TP+FN)\n",
    "F1=2*(Precision*Recall)/(Precision+Recall)"
   ]
  },
  {
   "cell_type": "code",
   "execution_count": 41,
   "metadata": {},
   "outputs": [
    {
     "name": "stdout",
     "output_type": "stream",
     "text": [
      "Accuracy is  0.7764449291166848 \n",
      "Precision is  0.8212765957446808 \n",
      "Recall is 0.7613412228796844 \n",
      "F1 is  0.790174002047083\n"
     ]
    }
   ],
   "source": [
    "print(\"Accuracy is \" , Accuracy , \"\\nPrecision is \", Precision, \"\\nRecall is\" , Recall, \"\\nF1 is \",  F1, sep=\" \")"
   ]
  },
  {
   "cell_type": "code",
   "execution_count": null,
   "metadata": {},
   "outputs": [],
   "source": [
    "\n",
    "\n"
   ]
  },
  {
   "cell_type": "markdown",
   "metadata": {},
   "source": [
    "## KNN"
   ]
  },
  {
   "cell_type": "code",
   "execution_count": 59,
   "metadata": {},
   "outputs": [
    {
     "name": "stdout",
     "output_type": "stream",
     "text": [
      "\n",
      "\n",
      "TRIAL N_Nearestneigbours= 1 \n",
      "\n",
      " avg train accuracy = 1.00000, avg val accuracy = 0.74921\n",
      " avg train loss = 0.00000, avg val loss = 8.66219\n",
      "\n",
      "\n",
      "TRIAL N_Nearestneigbours= 2 \n",
      "\n",
      " avg train accuracy = 0.86971, avg val accuracy = 0.74269\n",
      " avg train loss = 4.50008, avg val loss = 8.88724\n",
      "\n",
      "\n",
      "TRIAL N_Nearestneigbours= 3 \n",
      "\n",
      " avg train accuracy = 0.86849, avg val accuracy = 0.78994\n",
      " avg train loss = 4.54217, avg val loss = 7.25539\n",
      "\n",
      "\n",
      "TRIAL N_Nearestneigbours= 4 \n",
      "\n",
      " avg train accuracy = 0.85017, avg val accuracy = 0.78018\n",
      " avg train loss = 5.17502, avg val loss = 7.59233\n",
      "\n",
      "\n",
      "TRIAL N_Nearestneigbours= 5 \n",
      "\n",
      " avg train accuracy = 0.85505, avg val accuracy = 0.80129\n",
      " avg train loss = 5.00642, avg val loss = 6.86318\n",
      "\n",
      "\n",
      "TRIAL N_Nearestneigbours= 6 \n",
      "\n",
      " avg train accuracy = 0.84650, avg val accuracy = 0.79320\n",
      " avg train loss = 5.30171, avg val loss = 7.14259\n",
      "\n",
      "\n",
      "TRIAL N_Nearestneigbours= 7 \n",
      "\n",
      " avg train accuracy = 0.84894, avg val accuracy = 0.79482\n",
      " avg train loss = 5.21750, avg val loss = 7.08690\n",
      "\n",
      "\n",
      "TRIAL N_Nearestneigbours= 8 \n",
      "\n",
      " avg train accuracy = 0.84161, avg val accuracy = 0.79645\n",
      " avg train loss = 5.47053, avg val loss = 7.03027\n",
      "\n",
      "\n",
      "TRIAL N_Nearestneigbours= 9 \n",
      "\n",
      " avg train accuracy = 0.84243, avg val accuracy = 0.79645\n",
      " avg train loss = 5.44235, avg val loss = 7.03028\n",
      "\n",
      "\n",
      "TRIAL N_Nearestneigbours= 10 \n",
      "\n",
      " avg train accuracy = 0.83958, avg val accuracy = 0.79483\n",
      " avg train loss = 5.54088, avg val loss = 7.08643\n",
      "\n",
      "\n",
      "TRIAL N_Nearestneigbours= 11 \n",
      "\n",
      " avg train accuracy = 0.83714, avg val accuracy = 0.79158\n",
      " avg train loss = 5.62516, avg val loss = 7.19876\n",
      "\n",
      "\n",
      "TRIAL N_Nearestneigbours= 12 \n",
      "\n",
      " avg train accuracy = 0.83184, avg val accuracy = 0.79809\n",
      " avg train loss = 5.80804, avg val loss = 6.97365\n",
      "\n",
      "\n",
      "TRIAL N_Nearestneigbours= 13 \n",
      "\n",
      " avg train accuracy = 0.83103, avg val accuracy = 0.79808\n",
      " avg train loss = 5.83625, avg val loss = 6.97411\n",
      "\n",
      "\n",
      "TRIAL N_Nearestneigbours= 14 \n",
      "\n",
      " avg train accuracy = 0.82614, avg val accuracy = 0.79971\n",
      " avg train loss = 6.00495, avg val loss = 6.91795\n"
     ]
    }
   ],
   "source": [
    "from sklearn.neighbors import KNeighborsClassifier\n",
    "\n",
    "X_TR, X_TEST, y_TR, y_TEST = train_test_split( X, y, test_size=0.33, random_state=42)\n",
    "\n",
    "\n",
    "k, shuffle, seed = 5, True, 42\n",
    "kfold = KFold(n_splits=k, shuffle=shuffle, random_state=seed)\n",
    "\n",
    "K=range(1,15)\n",
    "for n_neighbor in K:\n",
    "\n",
    "\n",
    "    tr_errors = []\n",
    "    val_errors = []\n",
    "    tr_loss=[] \n",
    "    val_loss=[]\n",
    "\n",
    "    for j, (train_indices, val_indices) in enumerate(kfold.split(X_TR)): \n",
    "\n",
    "        X_train, y_train, X_val, y_val = X[train_indices], y[train_indices], X[val_indices], y[val_indices]\n",
    "\n",
    "\n",
    "        clf=KNeighborsClassifier(n_neighbors=n_neighbor)\n",
    "\n",
    "\n",
    "        ro_scaler=MinMaxScaler()\n",
    "        X_train=ro_scaler.fit_transform(X_train)\n",
    "        X_val=ro_scaler.transform(X_val)\n",
    "        clf.fit(X_train,y_train)\n",
    "\n",
    "\n",
    "        y_pred_train=clf.predict(X_train)\n",
    "        acc_train=accuracy_score(y_train,y_pred_train)\n",
    "\n",
    "\n",
    "        y_pred_val=clf.predict(X_val)\n",
    "        acc_val=accuracy_score(y_val,y_pred_val)\n",
    "        loss_train=log_loss(y_train,y_pred_train)\n",
    "        loss_val=log_loss(y_val,y_pred_val)   \n",
    "\n",
    "\n",
    "        val_loss.append(loss_val)\n",
    "        tr_loss.append(loss_train)\n",
    "        tr_errors.append(acc_train)\n",
    "        val_errors.append(acc_val)\n",
    "        \n",
    "    #Average accuracy score and loss over K fold\n",
    "    average_train_error = np.mean(tr_errors)\n",
    "    average_val_error = np.mean(val_errors)\n",
    "    average_val_loss=np.mean(val_loss)\n",
    "    average_tr_loss=np.mean(tr_loss)\n",
    "    print(\"\\n\\nTRIAL N_Nearestneigbours= \"+str(n_neighbor)+\" \\n\")\n",
    "    print(f\" avg train accuracy = {average_train_error:.5f}, \"\n",
    "              f\"avg val accuracy = {average_val_error:.5f}\")\n",
    "    print(f\" avg train loss = {average_tr_loss:.5f}, \"\n",
    "              f\"avg val loss = {average_val_loss:.5f}\")\n",
    "\n",
    "\n"
   ]
  },
  {
   "cell_type": "code",
   "execution_count": 60,
   "metadata": {},
   "outputs": [
    {
     "data": {
      "text/plain": [
       "0.7491749174917491"
      ]
     },
     "execution_count": 60,
     "metadata": {},
     "output_type": "execute_result"
    }
   ],
   "source": [
    "X_train, X_val, y_train, y_val = train_test_split( X, y, test_size=0.33, random_state=42)\n",
    "ro_scaler=MinMaxScaler()\n",
    "X_TR=ro_scaler.fit_transform(X_TR)\n",
    "X_TEST=ro_scaler.transform(X_TEST)\n",
    "clf_1=KNeighborsClassifier(n_neighbors=5)\n",
    "clf_1=clf_1.fit(X_TR,y_TR)       \n",
    "y_train_pred=clf_1.predict(X_TR)\n",
    "y_val_pred=clf_1.predict(X_TEST)\n",
    "accuracy=accuracy_score(y_TEST,y_val_pred) \n",
    "accuracy"
   ]
  },
  {
   "cell_type": "code",
   "execution_count": 61,
   "metadata": {},
   "outputs": [
    {
     "data": {
      "text/plain": [
       "[Text(0, 0.5, '0'), Text(0, 1.5, '1')]"
      ]
     },
     "execution_count": 61,
     "metadata": {},
     "output_type": "execute_result"
    },
    {
     "data": {
      "image/png": "[encoded data removed]",
      "text/plain": [
       "<Figure size 432x288 with 2 Axes>"
      ]
     },
     "metadata": {},
     "output_type": "display_data"
    }
   ],
   "source": [
    "\n",
    "y_pred=clf_1.predict(X_scaled)\n",
    "conf_mat=confusion_matrix(y,y_pred) \n",
    "ax= plt.subplot()\n",
    "\n",
    "sns.heatmap(conf_mat, annot=True, fmt='g', ax=ax)\n",
    "\n",
    "ax.set_xlabel('Predicted labels',fontsize=15)\n",
    "ax.set_ylabel('True labels',fontsize=15)\n",
    "ax.set_title('Confusion Matrix',fontsize=15)\n",
    "ax.xaxis.set_ticklabels(['0', '1'],fontsize=15)\n",
    "ax.yaxis.set_ticklabels(['0', '1'],fontsize=15)"
   ]
  },
  {
   "cell_type": "code",
   "execution_count": 62,
   "metadata": {},
   "outputs": [],
   "source": [
    "TN=conf_mat[0][0]\n",
    "TP=conf_mat[1][1]\n",
    "FP=conf_mat[0][1]\n",
    "FN=conf_mat[1][0]"
   ]
  },
  {
   "cell_type": "code",
   "execution_count": 63,
   "metadata": {},
   "outputs": [],
   "source": [
    "Accuracy=(TN+TP)/(TN+TP+FP+FN)\n",
    "Precision=TP/(TP+FP)\n",
    "Recall=TP/(TP+FN)\n",
    "F1=2*(Precision*Recall)/(Precision+Recall)"
   ]
  },
  {
   "cell_type": "code",
   "execution_count": 64,
   "metadata": {},
   "outputs": [
    {
     "name": "stdout",
     "output_type": "stream",
     "text": [
      "Accuracy is  0.8102508178844057 \n",
      "Precision is  0.8475991649269311 \n",
      "Recall is 0.8007889546351085 \n",
      "F1 is  0.8235294117647058\n"
     ]
    }
   ],
   "source": [
    "print(\"Accuracy is \" , Accuracy , \"\\nPrecision is \", Precision, \"\\nRecall is\" , Recall, \"\\nF1 is \",  F1, sep=\" \")"
   ]
  },
  {
   "cell_type": "code",
   "execution_count": null,
   "metadata": {},
   "outputs": [],
   "source": []
  },
  {
   "cell_type": "code",
   "execution_count": null,
   "metadata": {},
   "outputs": [],
   "source": []
  }
 ],
 "metadata": {
  "kernelspec": {
   "display_name": "Python 3",
   "language": "python",
   "name": "python3"
  },
  "language_info": {
   "codemirror_mode": {
    "name": "ipython",
    "version": 3
   },
   "file_extension": ".py",
   "mimetype": "text/x-python",
   "name": "python",
   "nbconvert_exporter": "python",
   "pygments_lexer": "ipython3",
   "version": "3.9.5"
  },
  "varInspector": {
   "cols": {
    "lenName": 16,
    "lenType": 16,
    "lenVar": 40
   },
   "kernels_config": {
    "python": {
     "delete_cmd_postfix": "",
     "delete_cmd_prefix": "del ",
     "library": "var_list.py",
     "varRefreshCmd": "print(var_dic_list())"
    },
    "r": {
     "delete_cmd_postfix": ") ",
     "delete_cmd_prefix": "rm(",
     "library": "var_list.r",
     "varRefreshCmd": "cat(var_dic_list()) "
    }
   },
   "types_to_exclude": [
    "module",
    "function",
    "builtin_function_or_method",
    "instance",
    "_Feature"
   ],
   "window_display": false
  }
 },
 "nbformat": 4,
 "nbformat_minor": 4
}
